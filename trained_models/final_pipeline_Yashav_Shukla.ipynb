{
  "cells": [
    {
      "cell_type": "code",
      "execution_count": 1,
      "id": "a7f55c8a",
      "metadata": {
        "id": "a7f55c8a"
      },
      "outputs": [],
      "source": [
        "import pandas as pd\n",
        "import numpy as np\n",
        "import warnings\n",
        "import matplotlib.pyplot as plt\n",
        "from datetime import datetime\n",
        "import seaborn as sns\n",
        "import pickle\n",
        "sns.set()\n",
        "warnings.filterwarnings('ignore')\n",
        "from sklearn.preprocessing import LabelEncoder\n",
        "from sklearn.feature_selection import SelectKBest\n",
        "from sklearn.feature_selection import chi2\n",
        "from sklearn.model_selection import train_test_split\n",
        "from imblearn.over_sampling import SMOTE\n",
        "from sklearn.preprocessing import MinMaxScaler\n",
        "from sklearn.ensemble import RandomForestClassifier\n",
        "from sklearn.metrics import confusion_matrix, r2_score\n",
        "from sklearn.linear_model import LinearRegression\n",
        "from sklearn.metrics import roc_curve, auc\n",
        "from sklearn.metrics import classification_report\n",
        "from sklearn.model_selection import RandomizedSearchCV\n",
        "from sklearn import preprocessing\n",
        "from sklearn import metrics\n",
        "from sklearn.model_selection import GridSearchCV\n",
        "from sklearn.metrics import accuracy_score\n",
        "from sklearn.pipeline import Pipeline"
      ]
    },
    {
      "cell_type": "code",
      "source": [
        "df=pd.read_csv(\"/content/teama.csv\")"
      ],
      "metadata": {
        "id": "dykh3Py9Dkeh"
      },
      "id": "dykh3Py9Dkeh",
      "execution_count": null,
      "outputs": []
    },
    {
      "cell_type": "code",
      "execution_count": null,
      "id": "d6870677",
      "metadata": {
        "id": "d6870677"
      },
      "outputs": [],
      "source": [
        "# Changing  FirstPaymentDate and MaturityDate into date format\n",
        "df['FirstPaymentDate'] = pd.to_datetime(df['FirstPaymentDate'], format='%Y%m')\n",
        "df['MaturityDate'] = pd.to_datetime(df['MaturityDate'], format='%Y%m')"
      ]
    },
    {
      "cell_type": "code",
      "execution_count": null,
      "id": "f329bf64",
      "metadata": {
        "id": "f329bf64",
        "outputId": "19196869-ee8e-4478-8681-a896a76613aa"
      },
      "outputs": [
        {
          "data": {
            "text/html": [
              "<div>\n",
              "<style scoped>\n",
              "    .dataframe tbody tr th:only-of-type {\n",
              "        vertical-align: middle;\n",
              "    }\n",
              "\n",
              "    .dataframe tbody tr th {\n",
              "        vertical-align: top;\n",
              "    }\n",
              "\n",
              "    .dataframe thead th {\n",
              "        text-align: right;\n",
              "    }\n",
              "</style>\n",
              "<table border=\"1\" class=\"dataframe\">\n",
              "  <thead>\n",
              "    <tr style=\"text-align: right;\">\n",
              "      <th></th>\n",
              "      <th>CreditScore</th>\n",
              "      <th>FirstPaymentDate</th>\n",
              "      <th>FirstTimeHomebuyer</th>\n",
              "      <th>MaturityDate</th>\n",
              "      <th>MSA</th>\n",
              "      <th>MIP</th>\n",
              "      <th>Units</th>\n",
              "      <th>Occupancy</th>\n",
              "      <th>OCLTV</th>\n",
              "      <th>DTI</th>\n",
              "      <th>...</th>\n",
              "      <th>PostalCode</th>\n",
              "      <th>LoanSeqNum</th>\n",
              "      <th>LoanPurpose</th>\n",
              "      <th>OrigLoanTerm</th>\n",
              "      <th>NumBorrowers</th>\n",
              "      <th>SellerName</th>\n",
              "      <th>ServicerName</th>\n",
              "      <th>EverDelinquent</th>\n",
              "      <th>MonthsDelinquent</th>\n",
              "      <th>MonthsInRepayment</th>\n",
              "    </tr>\n",
              "  </thead>\n",
              "  <tbody>\n",
              "    <tr>\n",
              "      <th>0</th>\n",
              "      <td>0</td>\n",
              "      <td>1999-02-01</td>\n",
              "      <td>N</td>\n",
              "      <td>2029-01-01</td>\n",
              "      <td>16974</td>\n",
              "      <td>25</td>\n",
              "      <td>1</td>\n",
              "      <td>O</td>\n",
              "      <td>89</td>\n",
              "      <td>27</td>\n",
              "      <td>...</td>\n",
              "      <td>60400</td>\n",
              "      <td>F199Q1268030</td>\n",
              "      <td>P</td>\n",
              "      <td>360</td>\n",
              "      <td>2</td>\n",
              "      <td>FL</td>\n",
              "      <td>WASHINGTONMUTUALBANK</td>\n",
              "      <td>0</td>\n",
              "      <td>0</td>\n",
              "      <td>52</td>\n",
              "    </tr>\n",
              "    <tr>\n",
              "      <th>1</th>\n",
              "      <td>0</td>\n",
              "      <td>1999-02-01</td>\n",
              "      <td>N</td>\n",
              "      <td>2029-01-01</td>\n",
              "      <td>19740</td>\n",
              "      <td>0</td>\n",
              "      <td>1</td>\n",
              "      <td>O</td>\n",
              "      <td>73</td>\n",
              "      <td>17</td>\n",
              "      <td>...</td>\n",
              "      <td>80200</td>\n",
              "      <td>F199Q1015092</td>\n",
              "      <td>N</td>\n",
              "      <td>360</td>\n",
              "      <td>1</td>\n",
              "      <td>FT</td>\n",
              "      <td>CHASEHOMEFINANCELLC</td>\n",
              "      <td>0</td>\n",
              "      <td>0</td>\n",
              "      <td>144</td>\n",
              "    </tr>\n",
              "    <tr>\n",
              "      <th>2</th>\n",
              "      <td>0</td>\n",
              "      <td>1999-02-01</td>\n",
              "      <td>N</td>\n",
              "      <td>2029-01-01</td>\n",
              "      <td>29940</td>\n",
              "      <td>0</td>\n",
              "      <td>1</td>\n",
              "      <td>O</td>\n",
              "      <td>75</td>\n",
              "      <td>16</td>\n",
              "      <td>...</td>\n",
              "      <td>66000</td>\n",
              "      <td>F199Q1266886</td>\n",
              "      <td>N</td>\n",
              "      <td>360</td>\n",
              "      <td>2</td>\n",
              "      <td>FL</td>\n",
              "      <td>WASHINGTONMUTUALBANK</td>\n",
              "      <td>0</td>\n",
              "      <td>0</td>\n",
              "      <td>67</td>\n",
              "    </tr>\n",
              "    <tr>\n",
              "      <th>3</th>\n",
              "      <td>0</td>\n",
              "      <td>1999-02-01</td>\n",
              "      <td>N</td>\n",
              "      <td>2029-01-01</td>\n",
              "      <td>31084</td>\n",
              "      <td>0</td>\n",
              "      <td>1</td>\n",
              "      <td>O</td>\n",
              "      <td>76</td>\n",
              "      <td>14</td>\n",
              "      <td>...</td>\n",
              "      <td>90700</td>\n",
              "      <td>F199Q1178167</td>\n",
              "      <td>N</td>\n",
              "      <td>360</td>\n",
              "      <td>2</td>\n",
              "      <td>GM</td>\n",
              "      <td>GMACMTGECORP</td>\n",
              "      <td>0</td>\n",
              "      <td>0</td>\n",
              "      <td>35</td>\n",
              "    </tr>\n",
              "    <tr>\n",
              "      <th>4</th>\n",
              "      <td>0</td>\n",
              "      <td>1999-02-01</td>\n",
              "      <td>N</td>\n",
              "      <td>2029-01-01</td>\n",
              "      <td>35644</td>\n",
              "      <td>0</td>\n",
              "      <td>1</td>\n",
              "      <td>O</td>\n",
              "      <td>78</td>\n",
              "      <td>18</td>\n",
              "      <td>...</td>\n",
              "      <td>7600</td>\n",
              "      <td>F199Q1178517</td>\n",
              "      <td>N</td>\n",
              "      <td>360</td>\n",
              "      <td>2</td>\n",
              "      <td>GM</td>\n",
              "      <td>GMACMTGECORP</td>\n",
              "      <td>0</td>\n",
              "      <td>0</td>\n",
              "      <td>54</td>\n",
              "    </tr>\n",
              "  </tbody>\n",
              "</table>\n",
              "<p>5 rows × 28 columns</p>\n",
              "</div>"
            ],
            "text/plain": [
              "   CreditScore FirstPaymentDate FirstTimeHomebuyer MaturityDate    MSA  MIP  \\\n",
              "0            0       1999-02-01                  N   2029-01-01  16974   25   \n",
              "1            0       1999-02-01                  N   2029-01-01  19740    0   \n",
              "2            0       1999-02-01                  N   2029-01-01  29940    0   \n",
              "3            0       1999-02-01                  N   2029-01-01  31084    0   \n",
              "4            0       1999-02-01                  N   2029-01-01  35644    0   \n",
              "\n",
              "   Units Occupancy  OCLTV  DTI  ...  PostalCode    LoanSeqNum  LoanPurpose  \\\n",
              "0      1         O     89   27  ...       60400  F199Q1268030            P   \n",
              "1      1         O     73   17  ...       80200  F199Q1015092            N   \n",
              "2      1         O     75   16  ...       66000  F199Q1266886            N   \n",
              "3      1         O     76   14  ...       90700  F199Q1178167            N   \n",
              "4      1         O     78   18  ...        7600  F199Q1178517            N   \n",
              "\n",
              "  OrigLoanTerm NumBorrowers SellerName          ServicerName EverDelinquent  \\\n",
              "0          360            2         FL  WASHINGTONMUTUALBANK              0   \n",
              "1          360            1         FT  CHASEHOMEFINANCELLC               0   \n",
              "2          360            2         FL  WASHINGTONMUTUALBANK              0   \n",
              "3          360            2         GM  GMACMTGECORP                      0   \n",
              "4          360            2         GM  GMACMTGECORP                      0   \n",
              "\n",
              "  MonthsDelinquent MonthsInRepayment  \n",
              "0                0                52  \n",
              "1                0               144  \n",
              "2                0                67  \n",
              "3                0                35  \n",
              "4                0                54  \n",
              "\n",
              "[5 rows x 28 columns]"
            ]
          },
          "execution_count": 69,
          "metadata": {},
          "output_type": "execute_result"
        }
      ],
      "source": [
        "df.head()"
      ]
    },
    {
      "cell_type": "code",
      "execution_count": null,
      "id": "55079011",
      "metadata": {
        "id": "55079011"
      },
      "outputs": [],
      "source": [
        "def calculate_monthly_income(dti, emi):\n",
        "    dti = dti if dti <=1 else dti / 100\n",
        "    # Calculate montly income\n",
        "    if dti == 0:\n",
        "        monthly_income = emi\n",
        "    else:\n",
        "        monthly_income = emi / dti\n",
        "    return np.int32(monthly_income)"
      ]
    },
    {
      "cell_type": "code",
      "execution_count": null,
      "id": "5d739d40",
      "metadata": {
        "id": "5d739d40"
      },
      "outputs": [],
      "source": [
        "def calculateEmi(principal, monthly_interest_rate, loan_term_months):\n",
        "    numerator = (1 + monthly_interest_rate) ** loan_term_months\n",
        "    denominator = numerator - 1\n",
        "    interest = numerator / denominator\n",
        "    emi = principal * monthly_interest_rate * interest\n",
        "    return np.int32(emi)"
      ]
    },
    {
      "cell_type": "code",
      "execution_count": null,
      "id": "4d79796b",
      "metadata": {
        "id": "4d79796b"
      },
      "outputs": [],
      "source": [
        "def get_currentUPB(principal, monthly_interest_rate, monthly_installment,\n",
        "                   payments_made):\n",
        "    monthly_interest = monthly_interest_rate * principal\n",
        "    monthly_paid_principal = monthly_installment - monthly_interest\n",
        "    unpaid_principal = principal - (monthly_paid_principal * payments_made)\n",
        "    return np.int32(unpaid_principal)"
      ]
    },
    {
      "cell_type": "code",
      "execution_count": null,
      "id": "f95ce01f",
      "metadata": {
        "id": "f95ce01f"
      },
      "outputs": [],
      "source": [
        "def calculatePrepayment(dti, monthly_income):\n",
        "    if (dti < 40):\n",
        "        prepayment = monthly_income / 2;\n",
        "    else:\n",
        "        prepayment = monthly_income * 3 / 4;\n",
        "    return np.int32(prepayment)"
      ]
    },
    {
      "cell_type": "code",
      "execution_count": null,
      "id": "e5f73940",
      "metadata": {
        "id": "e5f73940",
        "outputId": "d980393e-30cc-4a9b-cb5c-b82ebd5d8146"
      },
      "outputs": [
        {
          "data": {
            "text/html": [
              "<div>\n",
              "<style scoped>\n",
              "    .dataframe tbody tr th:only-of-type {\n",
              "        vertical-align: middle;\n",
              "    }\n",
              "\n",
              "    .dataframe tbody tr th {\n",
              "        vertical-align: top;\n",
              "    }\n",
              "\n",
              "    .dataframe thead th {\n",
              "        text-align: right;\n",
              "    }\n",
              "</style>\n",
              "<table border=\"1\" class=\"dataframe\">\n",
              "  <thead>\n",
              "    <tr style=\"text-align: right;\">\n",
              "      <th></th>\n",
              "      <th>CreditScore</th>\n",
              "      <th>FirstPaymentDate</th>\n",
              "      <th>FirstTimeHomebuyer</th>\n",
              "      <th>MaturityDate</th>\n",
              "      <th>MSA</th>\n",
              "      <th>MIP</th>\n",
              "      <th>Units</th>\n",
              "      <th>Occupancy</th>\n",
              "      <th>OCLTV</th>\n",
              "      <th>DTI</th>\n",
              "      <th>...</th>\n",
              "      <th>PostalCode</th>\n",
              "      <th>LoanSeqNum</th>\n",
              "      <th>LoanPurpose</th>\n",
              "      <th>OrigLoanTerm</th>\n",
              "      <th>NumBorrowers</th>\n",
              "      <th>SellerName</th>\n",
              "      <th>ServicerName</th>\n",
              "      <th>EverDelinquent</th>\n",
              "      <th>MonthsDelinquent</th>\n",
              "      <th>MonthsInRepayment</th>\n",
              "    </tr>\n",
              "  </thead>\n",
              "  <tbody>\n",
              "    <tr>\n",
              "      <th>0</th>\n",
              "      <td>0</td>\n",
              "      <td>1999-02-01</td>\n",
              "      <td>N</td>\n",
              "      <td>2029-01-01</td>\n",
              "      <td>16974</td>\n",
              "      <td>25</td>\n",
              "      <td>1</td>\n",
              "      <td>O</td>\n",
              "      <td>89</td>\n",
              "      <td>27</td>\n",
              "      <td>...</td>\n",
              "      <td>60400</td>\n",
              "      <td>F199Q1268030</td>\n",
              "      <td>P</td>\n",
              "      <td>360</td>\n",
              "      <td>2</td>\n",
              "      <td>FL</td>\n",
              "      <td>WASHINGTONMUTUALBANK</td>\n",
              "      <td>0</td>\n",
              "      <td>0</td>\n",
              "      <td>52</td>\n",
              "    </tr>\n",
              "    <tr>\n",
              "      <th>1</th>\n",
              "      <td>0</td>\n",
              "      <td>1999-02-01</td>\n",
              "      <td>N</td>\n",
              "      <td>2029-01-01</td>\n",
              "      <td>19740</td>\n",
              "      <td>0</td>\n",
              "      <td>1</td>\n",
              "      <td>O</td>\n",
              "      <td>73</td>\n",
              "      <td>17</td>\n",
              "      <td>...</td>\n",
              "      <td>80200</td>\n",
              "      <td>F199Q1015092</td>\n",
              "      <td>N</td>\n",
              "      <td>360</td>\n",
              "      <td>1</td>\n",
              "      <td>FT</td>\n",
              "      <td>CHASEHOMEFINANCELLC</td>\n",
              "      <td>0</td>\n",
              "      <td>0</td>\n",
              "      <td>144</td>\n",
              "    </tr>\n",
              "    <tr>\n",
              "      <th>2</th>\n",
              "      <td>0</td>\n",
              "      <td>1999-02-01</td>\n",
              "      <td>N</td>\n",
              "      <td>2029-01-01</td>\n",
              "      <td>29940</td>\n",
              "      <td>0</td>\n",
              "      <td>1</td>\n",
              "      <td>O</td>\n",
              "      <td>75</td>\n",
              "      <td>16</td>\n",
              "      <td>...</td>\n",
              "      <td>66000</td>\n",
              "      <td>F199Q1266886</td>\n",
              "      <td>N</td>\n",
              "      <td>360</td>\n",
              "      <td>2</td>\n",
              "      <td>FL</td>\n",
              "      <td>WASHINGTONMUTUALBANK</td>\n",
              "      <td>0</td>\n",
              "      <td>0</td>\n",
              "      <td>67</td>\n",
              "    </tr>\n",
              "    <tr>\n",
              "      <th>3</th>\n",
              "      <td>0</td>\n",
              "      <td>1999-02-01</td>\n",
              "      <td>N</td>\n",
              "      <td>2029-01-01</td>\n",
              "      <td>31084</td>\n",
              "      <td>0</td>\n",
              "      <td>1</td>\n",
              "      <td>O</td>\n",
              "      <td>76</td>\n",
              "      <td>14</td>\n",
              "      <td>...</td>\n",
              "      <td>90700</td>\n",
              "      <td>F199Q1178167</td>\n",
              "      <td>N</td>\n",
              "      <td>360</td>\n",
              "      <td>2</td>\n",
              "      <td>GM</td>\n",
              "      <td>GMACMTGECORP</td>\n",
              "      <td>0</td>\n",
              "      <td>0</td>\n",
              "      <td>35</td>\n",
              "    </tr>\n",
              "    <tr>\n",
              "      <th>4</th>\n",
              "      <td>0</td>\n",
              "      <td>1999-02-01</td>\n",
              "      <td>N</td>\n",
              "      <td>2029-01-01</td>\n",
              "      <td>35644</td>\n",
              "      <td>0</td>\n",
              "      <td>1</td>\n",
              "      <td>O</td>\n",
              "      <td>78</td>\n",
              "      <td>18</td>\n",
              "      <td>...</td>\n",
              "      <td>7600</td>\n",
              "      <td>F199Q1178517</td>\n",
              "      <td>N</td>\n",
              "      <td>360</td>\n",
              "      <td>2</td>\n",
              "      <td>GM</td>\n",
              "      <td>GMACMTGECORP</td>\n",
              "      <td>0</td>\n",
              "      <td>0</td>\n",
              "      <td>54</td>\n",
              "    </tr>\n",
              "  </tbody>\n",
              "</table>\n",
              "<p>5 rows × 28 columns</p>\n",
              "</div>"
            ],
            "text/plain": [
              "   CreditScore FirstPaymentDate FirstTimeHomebuyer MaturityDate    MSA  MIP  \\\n",
              "0            0       1999-02-01                  N   2029-01-01  16974   25   \n",
              "1            0       1999-02-01                  N   2029-01-01  19740    0   \n",
              "2            0       1999-02-01                  N   2029-01-01  29940    0   \n",
              "3            0       1999-02-01                  N   2029-01-01  31084    0   \n",
              "4            0       1999-02-01                  N   2029-01-01  35644    0   \n",
              "\n",
              "   Units Occupancy  OCLTV  DTI  ...  PostalCode    LoanSeqNum  LoanPurpose  \\\n",
              "0      1         O     89   27  ...       60400  F199Q1268030            P   \n",
              "1      1         O     73   17  ...       80200  F199Q1015092            N   \n",
              "2      1         O     75   16  ...       66000  F199Q1266886            N   \n",
              "3      1         O     76   14  ...       90700  F199Q1178167            N   \n",
              "4      1         O     78   18  ...        7600  F199Q1178517            N   \n",
              "\n",
              "  OrigLoanTerm NumBorrowers SellerName          ServicerName EverDelinquent  \\\n",
              "0          360            2         FL  WASHINGTONMUTUALBANK              0   \n",
              "1          360            1         FT  CHASEHOMEFINANCELLC               0   \n",
              "2          360            2         FL  WASHINGTONMUTUALBANK              0   \n",
              "3          360            2         GM  GMACMTGECORP                      0   \n",
              "4          360            2         GM  GMACMTGECORP                      0   \n",
              "\n",
              "  MonthsDelinquent MonthsInRepayment  \n",
              "0                0                52  \n",
              "1                0               144  \n",
              "2                0                67  \n",
              "3                0                35  \n",
              "4                0                54  \n",
              "\n",
              "[5 rows x 28 columns]"
            ]
          },
          "execution_count": 74,
          "metadata": {},
          "output_type": "execute_result"
        }
      ],
      "source": [
        "df.head()"
      ]
    },
    {
      "cell_type": "code",
      "execution_count": null,
      "id": "6c7fd636",
      "metadata": {
        "id": "6c7fd636"
      },
      "outputs": [],
      "source": [
        "df.drop(['SellerName','ProductType','LoanSeqNum'],axis=1,inplace=True) ## Dropping the irrelevant features"
      ]
    },
    {
      "cell_type": "code",
      "execution_count": null,
      "id": "8165fe98",
      "metadata": {
        "id": "8165fe98"
      },
      "outputs": [],
      "source": [
        "for var in ['MSA','PropertyType','NumBorrowers','PPM']: ## Loop containing variables used for handling nan values\n",
        "    df[var]=df[var].str.strip() ## Removing the white space using str.strip()\n",
        "    df[var]=df[var].replace('X','Other') ## Replacing nan values with a category \"Other\"`"
      ]
    },
    {
      "cell_type": "code",
      "execution_count": null,
      "id": "f732df78",
      "metadata": {
        "id": "f732df78"
      },
      "outputs": [],
      "source": [
        "mode=df['FirstTimeHomebuyer'].mode()\n",
        "df['FirstTimeHomebuyer']=df['FirstTimeHomebuyer'].fillna(mode)[0]"
      ]
    },
    {
      "cell_type": "code",
      "execution_count": null,
      "id": "2a3e8615",
      "metadata": {
        "id": "2a3e8615"
      },
      "outputs": [],
      "source": [
        "## Function for removing outliers with 85th percentile and 5th percentile\n",
        "def remove_outliers(df2,variable):\n",
        "\n",
        "    upper_limit=df[variable].quantile(0.85)\n",
        "    lower_limit=df[variable].quantile(0.15)\n",
        "    df[variable]=np.where(df[variable]<=upper_limit,upper_limit,\n",
        "                         np.where(df[variable]>=lower_limit,lower_limit,\n",
        "                                 df[variable])) ## We want values lower than upper limit and larger than lower limit"
      ]
    },
    {
      "cell_type": "code",
      "execution_count": null,
      "id": "2efa1137",
      "metadata": {
        "id": "2efa1137"
      },
      "outputs": [],
      "source": [
        "variables=['CreditScore','FirstPaymentDate','MaturityDate','LTV','OCLTV','OrigUPB','OrigInterestRate','OrigLoanTerm',\n",
        "          'MonthsDelinquent','MonthsInRepayment']\n",
        "\n",
        "for variable in variables:\n",
        "    remove_outliers(df,variable) ## Loop to remove outliers for the variables in the list"
      ]
    },
    {
      "cell_type": "code",
      "execution_count": null,
      "id": "86628ba5",
      "metadata": {
        "id": "86628ba5"
      },
      "outputs": [],
      "source": [
        "for var in ['Occupancy','Channel','PPM','LoanPurpose','NumBorrowers','FirstTimeHomebuyer','PropertyState','PropertyType','PostalCode','ServicerName','MSA']:\n",
        "    ordinal_mapping={k:i for i,k in enumerate(df[var].unique(),0)} ## Assigning labels starting from 0\n",
        "    df[var]=df[var].map(ordinal_mapping) ## Encoding the variables with the labels assigned through the loop written above"
      ]
    },
    {
      "cell_type": "code",
      "execution_count": null,
      "id": "ffcdefde",
      "metadata": {
        "id": "ffcdefde"
      },
      "outputs": [],
      "source": [
        "df['OrigInterestRate_Monthly'] =  np.round((df['OrigInterestRate'] / 12) / 100, 4)"
      ]
    },
    {
      "cell_type": "code",
      "execution_count": null,
      "id": "eb8b9a27",
      "metadata": {
        "id": "eb8b9a27"
      },
      "outputs": [],
      "source": [
        "df['MonthlyInstallment'] = df.apply(\n",
        "        lambda features: calculateEmi(\n",
        "            principal=features['OrigUPB'],\n",
        "            monthly_interest_rate=features['OrigInterestRate_Monthly'],\n",
        "            loan_term_months=features['OrigLoanTerm']), axis=1)"
      ]
    },
    {
      "cell_type": "code",
      "execution_count": null,
      "id": "8d13962b",
      "metadata": {
        "id": "8d13962b"
      },
      "outputs": [],
      "source": [
        "df['CurrentUPB'] = df.apply(\n",
        "        lambda features: get_currentUPB(\n",
        "            monthly_interest_rate=features['OrigInterestRate_Monthly'],\n",
        "            principal=features['OrigUPB'],\n",
        "            monthly_installment=features['MonthlyInstallment'],\n",
        "            payments_made=features['MonthsInRepayment']), axis=1)"
      ]
    },
    {
      "cell_type": "code",
      "execution_count": null,
      "id": "626100e9",
      "metadata": {
        "id": "626100e9"
      },
      "outputs": [],
      "source": [
        "df['MonthlyIncome'] = df.apply(\n",
        "        lambda features: calculate_monthly_income(\n",
        "            dti = features['DTI'],\n",
        "            emi = features['MonthlyInstallment']), axis =1)"
      ]
    },
    {
      "cell_type": "code",
      "execution_count": null,
      "id": "8c4a7c56",
      "metadata": {
        "id": "8c4a7c56"
      },
      "outputs": [],
      "source": [
        "df['Prepayment'] = df.apply(\n",
        "        lambda features: calculatePrepayment(\n",
        "            dti=features['DTI'],\n",
        "            monthly_income=features['MonthlyIncome']), axis=1)"
      ]
    },
    {
      "cell_type": "code",
      "execution_count": null,
      "id": "51d2243d",
      "metadata": {
        "id": "51d2243d"
      },
      "outputs": [],
      "source": [
        "df['Totalpayment'] = df['MonthlyInstallment'] * df['OrigLoanTerm']"
      ]
    },
    {
      "cell_type": "code",
      "execution_count": null,
      "id": "eaf5365d",
      "metadata": {
        "id": "eaf5365d"
      },
      "outputs": [],
      "source": [
        "df['InterestAmount'] = df['Totalpayment'] - df['OrigUPB']"
      ]
    },
    {
      "cell_type": "code",
      "execution_count": null,
      "id": "9ef2ba6b",
      "metadata": {
        "id": "9ef2ba6b"
      },
      "outputs": [],
      "source": [
        "related_columns = ['OrigUPB', 'OrigInterestRate_Monthly', 'OrigLoanTerm',\n",
        "                   'DTI', 'MonthsInRepayment' , 'MonthlyInstallment',\n",
        "                   'CurrentUPB', 'MonthlyIncome', 'Prepayment', 'Totalpayment',\n",
        "                   'InterestAmount']"
      ]
    },
    {
      "cell_type": "code",
      "execution_count": null,
      "id": "62e2eba9",
      "metadata": {
        "id": "62e2eba9",
        "outputId": "eb64dcea-42dd-47f5-d725-8640566f8f44"
      },
      "outputs": [
        {
          "data": {
            "text/html": [
              "<div>\n",
              "<style scoped>\n",
              "    .dataframe tbody tr th:only-of-type {\n",
              "        vertical-align: middle;\n",
              "    }\n",
              "\n",
              "    .dataframe tbody tr th {\n",
              "        vertical-align: top;\n",
              "    }\n",
              "\n",
              "    .dataframe thead th {\n",
              "        text-align: right;\n",
              "    }\n",
              "</style>\n",
              "<table border=\"1\" class=\"dataframe\">\n",
              "  <thead>\n",
              "    <tr style=\"text-align: right;\">\n",
              "      <th></th>\n",
              "      <th>OrigUPB</th>\n",
              "      <th>OrigInterestRate_Monthly</th>\n",
              "      <th>OrigLoanTerm</th>\n",
              "      <th>DTI</th>\n",
              "      <th>MonthsInRepayment</th>\n",
              "      <th>MonthlyInstallment</th>\n",
              "      <th>CurrentUPB</th>\n",
              "      <th>MonthlyIncome</th>\n",
              "      <th>Prepayment</th>\n",
              "      <th>Totalpayment</th>\n",
              "      <th>InterestAmount</th>\n",
              "    </tr>\n",
              "  </thead>\n",
              "  <tbody>\n",
              "    <tr>\n",
              "      <th>0</th>\n",
              "      <td>187000.0</td>\n",
              "      <td>0.006</td>\n",
              "      <td>360.0</td>\n",
              "      <td>27</td>\n",
              "      <td>98.0</td>\n",
              "      <td>1269</td>\n",
              "      <td>172594</td>\n",
              "      <td>4700</td>\n",
              "      <td>2350</td>\n",
              "      <td>456840.0</td>\n",
              "      <td>269840.0</td>\n",
              "    </tr>\n",
              "    <tr>\n",
              "      <th>1</th>\n",
              "      <td>187000.0</td>\n",
              "      <td>0.006</td>\n",
              "      <td>360.0</td>\n",
              "      <td>17</td>\n",
              "      <td>27.0</td>\n",
              "      <td>1269</td>\n",
              "      <td>183031</td>\n",
              "      <td>7464</td>\n",
              "      <td>3732</td>\n",
              "      <td>456840.0</td>\n",
              "      <td>269840.0</td>\n",
              "    </tr>\n",
              "    <tr>\n",
              "      <th>2</th>\n",
              "      <td>187000.0</td>\n",
              "      <td>0.006</td>\n",
              "      <td>360.0</td>\n",
              "      <td>16</td>\n",
              "      <td>98.0</td>\n",
              "      <td>1269</td>\n",
              "      <td>172594</td>\n",
              "      <td>7931</td>\n",
              "      <td>3965</td>\n",
              "      <td>456840.0</td>\n",
              "      <td>269840.0</td>\n",
              "    </tr>\n",
              "    <tr>\n",
              "      <th>3</th>\n",
              "      <td>187000.0</td>\n",
              "      <td>0.006</td>\n",
              "      <td>360.0</td>\n",
              "      <td>14</td>\n",
              "      <td>98.0</td>\n",
              "      <td>1269</td>\n",
              "      <td>172594</td>\n",
              "      <td>9064</td>\n",
              "      <td>4532</td>\n",
              "      <td>456840.0</td>\n",
              "      <td>269840.0</td>\n",
              "    </tr>\n",
              "    <tr>\n",
              "      <th>4</th>\n",
              "      <td>187000.0</td>\n",
              "      <td>0.006</td>\n",
              "      <td>360.0</td>\n",
              "      <td>18</td>\n",
              "      <td>98.0</td>\n",
              "      <td>1269</td>\n",
              "      <td>172594</td>\n",
              "      <td>7050</td>\n",
              "      <td>3525</td>\n",
              "      <td>456840.0</td>\n",
              "      <td>269840.0</td>\n",
              "    </tr>\n",
              "    <tr>\n",
              "      <th>...</th>\n",
              "      <td>...</td>\n",
              "      <td>...</td>\n",
              "      <td>...</td>\n",
              "      <td>...</td>\n",
              "      <td>...</td>\n",
              "      <td>...</td>\n",
              "      <td>...</td>\n",
              "      <td>...</td>\n",
              "      <td>...</td>\n",
              "      <td>...</td>\n",
              "      <td>...</td>\n",
              "    </tr>\n",
              "    <tr>\n",
              "      <th>291446</th>\n",
              "      <td>187000.0</td>\n",
              "      <td>0.006</td>\n",
              "      <td>360.0</td>\n",
              "      <td>32</td>\n",
              "      <td>98.0</td>\n",
              "      <td>1269</td>\n",
              "      <td>172594</td>\n",
              "      <td>3965</td>\n",
              "      <td>1982</td>\n",
              "      <td>456840.0</td>\n",
              "      <td>269840.0</td>\n",
              "    </tr>\n",
              "    <tr>\n",
              "      <th>291447</th>\n",
              "      <td>70000.0</td>\n",
              "      <td>0.006</td>\n",
              "      <td>360.0</td>\n",
              "      <td>0</td>\n",
              "      <td>98.0</td>\n",
              "      <td>475</td>\n",
              "      <td>64610</td>\n",
              "      <td>475</td>\n",
              "      <td>237</td>\n",
              "      <td>171000.0</td>\n",
              "      <td>101000.0</td>\n",
              "    </tr>\n",
              "    <tr>\n",
              "      <th>291448</th>\n",
              "      <td>187000.0</td>\n",
              "      <td>0.006</td>\n",
              "      <td>360.0</td>\n",
              "      <td>31</td>\n",
              "      <td>98.0</td>\n",
              "      <td>1269</td>\n",
              "      <td>172594</td>\n",
              "      <td>4093</td>\n",
              "      <td>2046</td>\n",
              "      <td>456840.0</td>\n",
              "      <td>269840.0</td>\n",
              "    </tr>\n",
              "    <tr>\n",
              "      <th>291449</th>\n",
              "      <td>187000.0</td>\n",
              "      <td>0.006</td>\n",
              "      <td>360.0</td>\n",
              "      <td>54</td>\n",
              "      <td>98.0</td>\n",
              "      <td>1269</td>\n",
              "      <td>172594</td>\n",
              "      <td>2350</td>\n",
              "      <td>1762</td>\n",
              "      <td>456840.0</td>\n",
              "      <td>269840.0</td>\n",
              "    </tr>\n",
              "    <tr>\n",
              "      <th>291450</th>\n",
              "      <td>187000.0</td>\n",
              "      <td>0.006</td>\n",
              "      <td>360.0</td>\n",
              "      <td>29</td>\n",
              "      <td>98.0</td>\n",
              "      <td>1269</td>\n",
              "      <td>172594</td>\n",
              "      <td>4375</td>\n",
              "      <td>2187</td>\n",
              "      <td>456840.0</td>\n",
              "      <td>269840.0</td>\n",
              "    </tr>\n",
              "  </tbody>\n",
              "</table>\n",
              "<p>291451 rows × 11 columns</p>\n",
              "</div>"
            ],
            "text/plain": [
              "         OrigUPB  OrigInterestRate_Monthly  OrigLoanTerm  DTI  \\\n",
              "0       187000.0                     0.006         360.0   27   \n",
              "1       187000.0                     0.006         360.0   17   \n",
              "2       187000.0                     0.006         360.0   16   \n",
              "3       187000.0                     0.006         360.0   14   \n",
              "4       187000.0                     0.006         360.0   18   \n",
              "...          ...                       ...           ...  ...   \n",
              "291446  187000.0                     0.006         360.0   32   \n",
              "291447   70000.0                     0.006         360.0    0   \n",
              "291448  187000.0                     0.006         360.0   31   \n",
              "291449  187000.0                     0.006         360.0   54   \n",
              "291450  187000.0                     0.006         360.0   29   \n",
              "\n",
              "        MonthsInRepayment  MonthlyInstallment  CurrentUPB  MonthlyIncome  \\\n",
              "0                    98.0                1269      172594           4700   \n",
              "1                    27.0                1269      183031           7464   \n",
              "2                    98.0                1269      172594           7931   \n",
              "3                    98.0                1269      172594           9064   \n",
              "4                    98.0                1269      172594           7050   \n",
              "...                   ...                 ...         ...            ...   \n",
              "291446               98.0                1269      172594           3965   \n",
              "291447               98.0                 475       64610            475   \n",
              "291448               98.0                1269      172594           4093   \n",
              "291449               98.0                1269      172594           2350   \n",
              "291450               98.0                1269      172594           4375   \n",
              "\n",
              "        Prepayment  Totalpayment  InterestAmount  \n",
              "0             2350      456840.0        269840.0  \n",
              "1             3732      456840.0        269840.0  \n",
              "2             3965      456840.0        269840.0  \n",
              "3             4532      456840.0        269840.0  \n",
              "4             3525      456840.0        269840.0  \n",
              "...            ...           ...             ...  \n",
              "291446        1982      456840.0        269840.0  \n",
              "291447         237      171000.0        101000.0  \n",
              "291448        2046      456840.0        269840.0  \n",
              "291449        1762      456840.0        269840.0  \n",
              "291450        2187      456840.0        269840.0  \n",
              "\n",
              "[291451 rows x 11 columns]"
            ]
          },
          "execution_count": 89,
          "metadata": {},
          "output_type": "execute_result"
        }
      ],
      "source": [
        "df[related_columns]"
      ]
    },
    {
      "cell_type": "code",
      "execution_count": null,
      "id": "8101ff5f",
      "metadata": {
        "id": "8101ff5f"
      },
      "outputs": [],
      "source": [
        "df['ActualPayments'] = df['MonthlyInstallment'] * df['MonthsInRepayment']"
      ]
    },
    {
      "cell_type": "code",
      "execution_count": null,
      "id": "be5454a3",
      "metadata": {
        "id": "be5454a3"
      },
      "outputs": [],
      "source": [
        "df['Prepayments'] = df['Prepayment'] // df['MonthlyInstallment']"
      ]
    },
    {
      "cell_type": "code",
      "execution_count": null,
      "id": "3ee3992f",
      "metadata": {
        "id": "3ee3992f"
      },
      "outputs": [],
      "source": [
        "df['ScheduledPayments'] = df['MonthlyInstallment'] * (df['MonthsInRepayment'] - df['Prepayments'] + df['MonthsDelinquent'])"
      ]
    },
    {
      "cell_type": "code",
      "execution_count": null,
      "id": "c25ad59a",
      "metadata": {
        "id": "c25ad59a"
      },
      "outputs": [],
      "source": [
        "df['PPR'] = (df['ScheduledPayments'] - df['ActualPayments']) / df['CurrentUPB']"
      ]
    },
    {
      "cell_type": "code",
      "execution_count": null,
      "id": "0b1d19bd",
      "metadata": {
        "id": "0b1d19bd",
        "outputId": "693d31a9-eb6e-44b3-cf8a-09250ce4d899"
      },
      "outputs": [
        {
          "name": "stdout",
          "output_type": "stream",
          "text": [
            "<class 'pandas.core.frame.DataFrame'>\n",
            "RangeIndex: 291451 entries, 0 to 291450\n",
            "Data columns (total 36 columns):\n",
            " #   Column                    Non-Null Count   Dtype         \n",
            "---  ------                    --------------   -----         \n",
            " 0   CreditScore               291451 non-null  float64       \n",
            " 1   FirstPaymentDate          291451 non-null  datetime64[ns]\n",
            " 2   FirstTimeHomebuyer        291451 non-null  int64         \n",
            " 3   MaturityDate              291451 non-null  datetime64[ns]\n",
            " 4   MSA                       291451 non-null  int64         \n",
            " 5   MIP                       291451 non-null  int64         \n",
            " 6   Units                     291451 non-null  int64         \n",
            " 7   Occupancy                 291451 non-null  int64         \n",
            " 8   OCLTV                     291451 non-null  float64       \n",
            " 9   DTI                       291451 non-null  int64         \n",
            " 10  OrigUPB                   291451 non-null  float64       \n",
            " 11  LTV                       291451 non-null  float64       \n",
            " 12  OrigInterestRate          291451 non-null  float64       \n",
            " 13  Channel                   291451 non-null  int64         \n",
            " 14  PPM                       291451 non-null  int64         \n",
            " 15  PropertyState             291451 non-null  int64         \n",
            " 16  PropertyType              291451 non-null  int64         \n",
            " 17  PostalCode                291451 non-null  int64         \n",
            " 18  LoanPurpose               291451 non-null  int64         \n",
            " 19  OrigLoanTerm              291451 non-null  float64       \n",
            " 20  NumBorrowers              291451 non-null  int64         \n",
            " 21  ServicerName              291451 non-null  int64         \n",
            " 22  EverDelinquent            291451 non-null  int64         \n",
            " 23  MonthsDelinquent          291451 non-null  float64       \n",
            " 24  MonthsInRepayment         291451 non-null  float64       \n",
            " 25  OrigInterestRate_Monthly  291451 non-null  float64       \n",
            " 26  MonthlyInstallment        291451 non-null  int32         \n",
            " 27  CurrentUPB                291451 non-null  int32         \n",
            " 28  MonthlyIncome             291451 non-null  int32         \n",
            " 29  Prepayment                291451 non-null  int32         \n",
            " 30  Totalpayment              291451 non-null  float64       \n",
            " 31  InterestAmount            291451 non-null  float64       \n",
            " 32  ActualPayments            291451 non-null  float64       \n",
            " 33  Prepayments               291451 non-null  int32         \n",
            " 34  ScheduledPayments         291451 non-null  float64       \n",
            " 35  PPR                       291451 non-null  float64       \n",
            "dtypes: datetime64[ns](2), float64(14), int32(5), int64(15)\n",
            "memory usage: 74.5 MB\n"
          ]
        }
      ],
      "source": [
        "df.info()"
      ]
    },
    {
      "cell_type": "code",
      "execution_count": null,
      "id": "f56bd3cd",
      "metadata": {
        "id": "f56bd3cd"
      },
      "outputs": [],
      "source": [
        "df = df.drop(['FirstPaymentDate','FirstTimeHomebuyer','LoanPurpose','MaturityDate','MIP','Units','MSA','NumBorrowers','Occupancy','Channel','PPM','OCLTV','PropertyState','PropertyType','PostalCode','ServicerName','MonthsDelinquent'],axis = 1)"
      ]
    },
    {
      "cell_type": "code",
      "execution_count": null,
      "id": "cb0826f2",
      "metadata": {
        "id": "cb0826f2",
        "outputId": "4cc47665-bd6c-414f-9725-f2be93c3847e"
      },
      "outputs": [
        {
          "data": {
            "text/html": [
              "<div>\n",
              "<style scoped>\n",
              "    .dataframe tbody tr th:only-of-type {\n",
              "        vertical-align: middle;\n",
              "    }\n",
              "\n",
              "    .dataframe tbody tr th {\n",
              "        vertical-align: top;\n",
              "    }\n",
              "\n",
              "    .dataframe thead th {\n",
              "        text-align: right;\n",
              "    }\n",
              "</style>\n",
              "<table border=\"1\" class=\"dataframe\">\n",
              "  <thead>\n",
              "    <tr style=\"text-align: right;\">\n",
              "      <th></th>\n",
              "      <th>CreditScore</th>\n",
              "      <th>DTI</th>\n",
              "      <th>OrigUPB</th>\n",
              "      <th>LTV</th>\n",
              "      <th>OrigInterestRate</th>\n",
              "      <th>OrigLoanTerm</th>\n",
              "      <th>EverDelinquent</th>\n",
              "      <th>MonthsInRepayment</th>\n",
              "      <th>OrigInterestRate_Monthly</th>\n",
              "      <th>MonthlyInstallment</th>\n",
              "      <th>CurrentUPB</th>\n",
              "      <th>MonthlyIncome</th>\n",
              "      <th>Prepayment</th>\n",
              "      <th>Totalpayment</th>\n",
              "      <th>InterestAmount</th>\n",
              "      <th>ActualPayments</th>\n",
              "      <th>Prepayments</th>\n",
              "      <th>ScheduledPayments</th>\n",
              "      <th>PPR</th>\n",
              "    </tr>\n",
              "  </thead>\n",
              "  <tbody>\n",
              "    <tr>\n",
              "      <th>0</th>\n",
              "      <td>766.0</td>\n",
              "      <td>27</td>\n",
              "      <td>187000.0</td>\n",
              "      <td>93.0</td>\n",
              "      <td>7.25</td>\n",
              "      <td>360.0</td>\n",
              "      <td>0</td>\n",
              "      <td>98.0</td>\n",
              "      <td>0.006</td>\n",
              "      <td>1269</td>\n",
              "      <td>172594</td>\n",
              "      <td>4700</td>\n",
              "      <td>2350</td>\n",
              "      <td>456840.0</td>\n",
              "      <td>269840.0</td>\n",
              "      <td>124362.0</td>\n",
              "      <td>1</td>\n",
              "      <td>124362.0</td>\n",
              "      <td>0.000000</td>\n",
              "    </tr>\n",
              "    <tr>\n",
              "      <th>1</th>\n",
              "      <td>766.0</td>\n",
              "      <td>17</td>\n",
              "      <td>187000.0</td>\n",
              "      <td>93.0</td>\n",
              "      <td>7.25</td>\n",
              "      <td>360.0</td>\n",
              "      <td>0</td>\n",
              "      <td>27.0</td>\n",
              "      <td>0.006</td>\n",
              "      <td>1269</td>\n",
              "      <td>183031</td>\n",
              "      <td>7464</td>\n",
              "      <td>3732</td>\n",
              "      <td>456840.0</td>\n",
              "      <td>269840.0</td>\n",
              "      <td>34263.0</td>\n",
              "      <td>2</td>\n",
              "      <td>32994.0</td>\n",
              "      <td>-0.006933</td>\n",
              "    </tr>\n",
              "    <tr>\n",
              "      <th>2</th>\n",
              "      <td>766.0</td>\n",
              "      <td>16</td>\n",
              "      <td>187000.0</td>\n",
              "      <td>93.0</td>\n",
              "      <td>7.25</td>\n",
              "      <td>360.0</td>\n",
              "      <td>0</td>\n",
              "      <td>98.0</td>\n",
              "      <td>0.006</td>\n",
              "      <td>1269</td>\n",
              "      <td>172594</td>\n",
              "      <td>7931</td>\n",
              "      <td>3965</td>\n",
              "      <td>456840.0</td>\n",
              "      <td>269840.0</td>\n",
              "      <td>124362.0</td>\n",
              "      <td>3</td>\n",
              "      <td>121824.0</td>\n",
              "      <td>-0.014705</td>\n",
              "    </tr>\n",
              "    <tr>\n",
              "      <th>3</th>\n",
              "      <td>766.0</td>\n",
              "      <td>14</td>\n",
              "      <td>187000.0</td>\n",
              "      <td>93.0</td>\n",
              "      <td>7.25</td>\n",
              "      <td>360.0</td>\n",
              "      <td>0</td>\n",
              "      <td>98.0</td>\n",
              "      <td>0.006</td>\n",
              "      <td>1269</td>\n",
              "      <td>172594</td>\n",
              "      <td>9064</td>\n",
              "      <td>4532</td>\n",
              "      <td>456840.0</td>\n",
              "      <td>269840.0</td>\n",
              "      <td>124362.0</td>\n",
              "      <td>3</td>\n",
              "      <td>121824.0</td>\n",
              "      <td>-0.014705</td>\n",
              "    </tr>\n",
              "    <tr>\n",
              "      <th>4</th>\n",
              "      <td>766.0</td>\n",
              "      <td>18</td>\n",
              "      <td>187000.0</td>\n",
              "      <td>93.0</td>\n",
              "      <td>7.25</td>\n",
              "      <td>360.0</td>\n",
              "      <td>0</td>\n",
              "      <td>98.0</td>\n",
              "      <td>0.006</td>\n",
              "      <td>1269</td>\n",
              "      <td>172594</td>\n",
              "      <td>7050</td>\n",
              "      <td>3525</td>\n",
              "      <td>456840.0</td>\n",
              "      <td>269840.0</td>\n",
              "      <td>124362.0</td>\n",
              "      <td>2</td>\n",
              "      <td>123093.0</td>\n",
              "      <td>-0.007353</td>\n",
              "    </tr>\n",
              "  </tbody>\n",
              "</table>\n",
              "</div>"
            ],
            "text/plain": [
              "   CreditScore  DTI   OrigUPB   LTV  OrigInterestRate  OrigLoanTerm  \\\n",
              "0        766.0   27  187000.0  93.0              7.25         360.0   \n",
              "1        766.0   17  187000.0  93.0              7.25         360.0   \n",
              "2        766.0   16  187000.0  93.0              7.25         360.0   \n",
              "3        766.0   14  187000.0  93.0              7.25         360.0   \n",
              "4        766.0   18  187000.0  93.0              7.25         360.0   \n",
              "\n",
              "   EverDelinquent  MonthsInRepayment  OrigInterestRate_Monthly  \\\n",
              "0               0               98.0                     0.006   \n",
              "1               0               27.0                     0.006   \n",
              "2               0               98.0                     0.006   \n",
              "3               0               98.0                     0.006   \n",
              "4               0               98.0                     0.006   \n",
              "\n",
              "   MonthlyInstallment  CurrentUPB  MonthlyIncome  Prepayment  Totalpayment  \\\n",
              "0                1269      172594           4700        2350      456840.0   \n",
              "1                1269      183031           7464        3732      456840.0   \n",
              "2                1269      172594           7931        3965      456840.0   \n",
              "3                1269      172594           9064        4532      456840.0   \n",
              "4                1269      172594           7050        3525      456840.0   \n",
              "\n",
              "   InterestAmount  ActualPayments  Prepayments  ScheduledPayments       PPR  \n",
              "0        269840.0        124362.0            1           124362.0  0.000000  \n",
              "1        269840.0         34263.0            2            32994.0 -0.006933  \n",
              "2        269840.0        124362.0            3           121824.0 -0.014705  \n",
              "3        269840.0        124362.0            3           121824.0 -0.014705  \n",
              "4        269840.0        124362.0            2           123093.0 -0.007353  "
            ]
          },
          "execution_count": 98,
          "metadata": {},
          "output_type": "execute_result"
        }
      ],
      "source": [
        "df.head()"
      ]
    },
    {
      "cell_type": "code",
      "execution_count": null,
      "id": "0aaf3921",
      "metadata": {
        "id": "0aaf3921"
      },
      "outputs": [],
      "source": [
        "#Dividing Data in test and train\n",
        "X=df.drop(['EverDelinquent','PPR'],axis=1)\n",
        "y=df[['EverDelinquent','PPR']]\n",
        "\n",
        "X_train,X_test,y_train,y_test=train_test_split(X,y, test_size=0.2, random_state=56)\n",
        "\n",
        "# Separating Target values for classifications and regression problems\n",
        "y_class_train = y_train.iloc[:,0]\n",
        "y_class_test = y_test.iloc[:,0]\n",
        "\n",
        "y_reg_test = y_test.iloc[:,1:]\n",
        "y_reg_train = y_train.iloc[:,1:]"
      ]
    },
    {
      "cell_type": "code",
      "execution_count": null,
      "id": "cfa1f88b",
      "metadata": {
        "id": "cfa1f88b",
        "outputId": "2a61cea5-339e-4531-bcaf-2b43dddf96d1"
      },
      "outputs": [
        {
          "name": "stdout",
          "output_type": "stream",
          "text": [
            "653.0\n",
            "766.0\n"
          ]
        }
      ],
      "source": [
        "print(df['CreditScore'].min())\n",
        "print(df['CreditScore'].max())"
      ]
    },
    {
      "cell_type": "code",
      "execution_count": null,
      "id": "d5affd0b",
      "metadata": {
        "id": "d5affd0b",
        "outputId": "efc6237d-fb47-4387-d477-c60843f5e3f6"
      },
      "outputs": [
        {
          "data": {
            "text/plain": [
              "Index(['CreditScore', 'DTI', 'OrigUPB', 'LTV', 'OrigInterestRate',\n",
              "       'OrigLoanTerm', 'MonthsInRepayment', 'OrigInterestRate_Monthly',\n",
              "       'MonthlyInstallment', 'CurrentUPB', 'MonthlyIncome', 'Prepayment',\n",
              "       'Totalpayment', 'InterestAmount', 'ActualPayments', 'Prepayments',\n",
              "       'ScheduledPayments'],\n",
              "      dtype='object')"
            ]
          },
          "execution_count": 100,
          "metadata": {},
          "output_type": "execute_result"
        }
      ],
      "source": [
        "X_train.columns"
      ]
    },
    {
      "cell_type": "code",
      "execution_count": null,
      "id": "2f6f7b82",
      "metadata": {
        "id": "2f6f7b82"
      },
      "outputs": [],
      "source": [
        "from imblearn.over_sampling import SMOTE\n",
        "from imblearn.pipeline import Pipeline as imbPipeline\n",
        "smote= SMOTE()\n",
        "scaler = MinMaxScaler()"
      ]
    },
    {
      "cell_type": "code",
      "execution_count": null,
      "id": "34b3c6bd",
      "metadata": {
        "id": "34b3c6bd"
      },
      "outputs": [],
      "source": [
        "\n",
        "classifier_Pipe = Pipeline([\n",
        "    ('scaler',scaler),\n",
        "    ('randomforest',RandomForestClassifier(class_weight=\"balanced\", max_depth=9))\n",
        "     ])"
      ]
    },
    {
      "cell_type": "code",
      "execution_count": null,
      "id": "07d94b4c",
      "metadata": {
        "id": "07d94b4c",
        "outputId": "053d3d56-6661-4a9b-d32f-1abc666000c4"
      },
      "outputs": [
        {
          "data": {
            "text/plain": [
              "Pipeline(steps=[('scaler', MinMaxScaler()),\n",
              "                ('randomforest',\n",
              "                 RandomForestClassifier(class_weight='balanced', max_depth=9))])"
            ]
          },
          "execution_count": 103,
          "metadata": {},
          "output_type": "execute_result"
        }
      ],
      "source": [
        "classifier_Pipe.fit(X_train, y_class_train)"
      ]
    },
    {
      "cell_type": "code",
      "execution_count": null,
      "id": "2e1d6825",
      "metadata": {
        "id": "2e1d6825",
        "outputId": "f9859ee2-6fa1-45e0-ca43-0adad68a7581"
      },
      "outputs": [
        {
          "name": "stdout",
          "output_type": "stream",
          "text": [
            "test accuracy =  90.02 %\n"
          ]
        }
      ],
      "source": [
        "pred_class = classifier_Pipe.predict(X_test)\n",
        "print('test accuracy = ', round(accuracy_score(y_class_test, pred_class)*100, 2), '%')"
      ]
    },
    {
      "cell_type": "code",
      "execution_count": null,
      "id": "3daec496",
      "metadata": {
        "id": "3daec496",
        "outputId": "f77c0329-8213-4e90-9473-c04e8c4a0ed7"
      },
      "outputs": [
        {
          "name": "stdout",
          "output_type": "stream",
          "text": [
            "Classification Report:\n",
            "\n",
            "Accuracy score:\n",
            " 90.02 %\n",
            "****************************************\n",
            "\n",
            "Confusion Matrix:\n",
            " [[45395  1353]\n",
            " [ 4464  7079]]\n",
            "****************************************\n",
            "\n",
            "Classification Report:\n",
            "               precision    recall  f1-score   support\n",
            "\n",
            "           0       0.91      0.97      0.94     46748\n",
            "           1       0.84      0.61      0.71     11543\n",
            "\n",
            "    accuracy                           0.90     58291\n",
            "   macro avg       0.88      0.79      0.82     58291\n",
            "weighted avg       0.90      0.90      0.89     58291\n",
            "\n"
          ]
        }
      ],
      "source": [
        "print(\"Classification Report:\")\n",
        "\n",
        "print(\"\\nAccuracy score:\\n\", round(accuracy_score(y_class_test, pred_class)*100,2), '%')\n",
        "print('*'*40)\n",
        "print(\"\\nConfusion Matrix:\\n\", confusion_matrix(y_class_test, pred_class))\n",
        "print('*'*40)\n",
        "print(\"\\nClassification Report:\\n\", classification_report(y_class_test, pred_class))"
      ]
    },
    {
      "cell_type": "code",
      "execution_count": null,
      "id": "1945ab89",
      "metadata": {
        "id": "1945ab89"
      },
      "outputs": [],
      "source": [
        "from sklearn.linear_model import LinearRegression\n",
        "Regression_pipe = Pipeline([\n",
        "     ('scaler',scaler),\n",
        "     ('Regressor',LinearRegression())\n",
        "    ])"
      ]
    },
    {
      "cell_type": "code",
      "execution_count": null,
      "id": "275c7749",
      "metadata": {
        "id": "275c7749",
        "outputId": "dd27a251-9f76-4b86-a087-19de4a3fa863"
      },
      "outputs": [
        {
          "name": "stdout",
          "output_type": "stream",
          "text": [
            "R squared test set 98.13\n"
          ]
        }
      ],
      "source": [
        "from sklearn.metrics import mean_squared_error\n",
        "\n",
        "Regression_pipe.fit(X_train, y_reg_train)\n",
        "\n",
        "pred_test_lass = Regression_pipe.predict(X_test)\n",
        "\n",
        "print('R squared test set', round(r2_score(y_reg_test,pred_test_lass)*100, 2))"
      ]
    },
    {
      "cell_type": "code",
      "execution_count": null,
      "id": "73aae82b",
      "metadata": {
        "id": "73aae82b"
      },
      "outputs": [],
      "source": [
        "pickle.dump(classifier_Pipe, open('classification_.pkl','rb'))"
      ]
    },
    {
      "cell_type": "code",
      "source": [
        "pickle.dump(Regression_pipe, open('regression_.pkl','rb'))"
      ],
      "metadata": {
        "id": "vF9JZ0JIC9wM"
      },
      "id": "vF9JZ0JIC9wM",
      "execution_count": null,
      "outputs": []
    },
    {
      "cell_type": "code",
      "execution_count": null,
      "id": "17c2fb83",
      "metadata": {
        "id": "17c2fb83"
      },
      "outputs": [],
      "source": [
        "pickle.dump(combined_predictions_pipe, open('combined_predictions.pkl', 'rb))"
      ]
    }
  ],
  "metadata": {
    "kernelspec": {
      "display_name": "Python 3 (ipykernel)",
      "language": "python",
      "name": "python3"
    },
    "language_info": {
      "codemirror_mode": {
        "name": "ipython",
        "version": 3
      },
      "file_extension": ".py",
      "mimetype": "text/x-python",
      "name": "python",
      "nbconvert_exporter": "python",
      "pygments_lexer": "ipython3",
      "version": "3.9.12"
    },
    "colab": {
      "provenance": []
    }
  },
  "nbformat": 4,
  "nbformat_minor": 5
}